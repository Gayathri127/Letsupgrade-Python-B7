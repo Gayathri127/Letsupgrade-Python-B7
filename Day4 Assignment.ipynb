{
 "cells": [
  {
   "cell_type": "markdown",
   "metadata": {},
   "source": [
    "# Day4 Assignment"
   ]
  },
  {
   "cell_type": "code",
   "execution_count": null,
   "metadata": {},
   "outputs": [
    {
     "name": "stdout",
     "output_type": "stream",
     "text": [
      "1741725\n",
      "2097280\n",
      "2097281\n",
      "3278756\n",
      "4210818\n",
      "4782969\n",
      "4861095\n",
      "9800817\n",
      "9926315\n",
      "16790338\n",
      "21816066\n",
      "24678050\n",
      "24678051\n",
      "26682755\n"
     ]
    }
   ],
   "source": [
    "low = 1042000\n",
    "up = 702648265\n",
    "\n",
    "for num in range(low,up+1):\n",
    "    order = len(str(num))\n",
    "    summ = 0\n",
    "    temp = num\n",
    "    while temp >0:\n",
    "        digit = temp%10\n",
    "        summ += digit ** order\n",
    "        temp //= 10\n",
    "        if num == summ:\n",
    "            print(num)\n",
    "            break\n",
    "        "
   ]
  },
  {
   "cell_type": "code",
   "execution_count": null,
   "metadata": {},
   "outputs": [],
   "source": []
  },
  {
   "cell_type": "code",
   "execution_count": null,
   "metadata": {},
   "outputs": [],
   "source": []
  },
  {
   "cell_type": "code",
   "execution_count": null,
   "metadata": {},
   "outputs": [],
   "source": []
  }
 ],
 "metadata": {
  "kernelspec": {
   "display_name": "Python 3",
   "language": "python",
   "name": "python3"
  },
  "language_info": {
   "codemirror_mode": {
    "name": "ipython",
    "version": 3
   },
   "file_extension": ".py",
   "mimetype": "text/x-python",
   "name": "python",
   "nbconvert_exporter": "python",
   "pygments_lexer": "ipython3",
   "version": "3.8.3"
  }
 },
 "nbformat": 4,
 "nbformat_minor": 4
}
