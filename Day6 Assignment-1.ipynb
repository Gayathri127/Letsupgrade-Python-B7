{
 "cells": [
  {
   "cell_type": "markdown",
   "metadata": {},
   "source": [
    "# Day6 Assignment -1"
   ]
  },
  {
   "cell_type": "code",
   "execution_count": 10,
   "metadata": {},
   "outputs": [],
   "source": [
    "class bankAccount():\n",
    "    def __init__(self,ownername,balance):\n",
    "        self.ownername = ownername\n",
    "        self.balance = balance\n",
    "            \n",
    "    def deposit(self):\n",
    "        \n",
    "        amountToDeposit = int(input(\"enter the amount to deposit\"))\n",
    "        self.balance += amountToDeposit\n",
    "        print(\"current balance: \" ,self.balance)\n",
    "        \n",
    "    def withdrawal(self):\n",
    "        \n",
    "        amountToWithdraw = int(input(\"enter the amount to withdraw\"))\n",
    "        if self.balance > amountToWithdraw:\n",
    "            self.balance -= amountToWithdraw\n",
    "            print(\"current balance: \" ,self.balance)\n",
    "        else:\n",
    "            print(\"amount exceeds the current balance.....\")\n",
    "\n",
    "        \n",
    "            \n",
    "       "
   ]
  },
  {
   "cell_type": "code",
   "execution_count": 11,
   "metadata": {},
   "outputs": [],
   "source": [
    "s = bankAccount(\"joshua\",10000)"
   ]
  },
  {
   "cell_type": "code",
   "execution_count": 12,
   "metadata": {},
   "outputs": [
    {
     "name": "stdout",
     "output_type": "stream",
     "text": [
      "enter the amount to deposit10000\n",
      "current balance:  20000\n"
     ]
    }
   ],
   "source": [
    "s.deposit()"
   ]
  },
  {
   "cell_type": "code",
   "execution_count": 13,
   "metadata": {},
   "outputs": [
    {
     "name": "stdout",
     "output_type": "stream",
     "text": [
      "enter the amount to withdraw10000\n",
      "current balance:  10000\n"
     ]
    }
   ],
   "source": [
    "s.withdrawal()"
   ]
  },
  {
   "cell_type": "code",
   "execution_count": 14,
   "metadata": {},
   "outputs": [
    {
     "name": "stdout",
     "output_type": "stream",
     "text": [
      "enter the amount to withdraw11000\n",
      "amount exceeds the current balance.....\n"
     ]
    }
   ],
   "source": [
    "s.withdrawal()"
   ]
  },
  {
   "cell_type": "code",
   "execution_count": null,
   "metadata": {},
   "outputs": [],
   "source": []
  }
 ],
 "metadata": {
  "kernelspec": {
   "display_name": "Python 3",
   "language": "python",
   "name": "python3"
  },
  "language_info": {
   "codemirror_mode": {
    "name": "ipython",
    "version": 3
   },
   "file_extension": ".py",
   "mimetype": "text/x-python",
   "name": "python",
   "nbconvert_exporter": "python",
   "pygments_lexer": "ipython3",
   "version": "3.8.3"
  }
 },
 "nbformat": 4,
 "nbformat_minor": 4
}
