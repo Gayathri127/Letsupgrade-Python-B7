{
 "cells": [
  {
   "cell_type": "markdown",
   "metadata": {},
   "source": [
    "# Day5 Assignment-1"
   ]
  },
  {
   "cell_type": "code",
   "execution_count": 1,
   "metadata": {},
   "outputs": [
    {
     "name": "stdout",
     "output_type": "stream",
     "text": [
      "enter the list : 1 5 6 4 1 2 3 5\n",
      "it's a MATCH\n"
     ]
    }
   ],
   "source": [
    "lst = [1,1,5]\n",
    "lst1 = [int(item) for item in input(\"enter the list : \").split()]\n",
    "flag = 0\n",
    "if(set(lst).issubset(set(lst1))):\n",
    "    flag = 1\n",
    "if(flag):\n",
    "    print(\"it's a MATCH\")\n",
    "else:\n",
    "    print(\"it's a GONE\")"
   ]
  },
  {
   "cell_type": "code",
   "execution_count": 3,
   "metadata": {},
   "outputs": [
    {
     "name": "stdout",
     "output_type": "stream",
     "text": [
      "enter the list : 2 3 4  6 7 \n",
      "it's a GONE\n"
     ]
    }
   ],
   "source": [
    "lst = [1,1,5]\n",
    "lst1 = [int(item) for item in input(\"enter the list : \").split()]\n",
    "flag = 0\n",
    "if(set(lst).issubset(set(lst1))):\n",
    "    flag = 1\n",
    "if(flag):\n",
    "    print(\"it's a MATCH\")\n",
    "else:\n",
    "    print(\"it's a GONE\")"
   ]
  },
  {
   "cell_type": "code",
   "execution_count": null,
   "metadata": {},
   "outputs": [],
   "source": []
  }
 ],
 "metadata": {
  "kernelspec": {
   "display_name": "Python 3",
   "language": "python",
   "name": "python3"
  },
  "language_info": {
   "codemirror_mode": {
    "name": "ipython",
    "version": 3
   },
   "file_extension": ".py",
   "mimetype": "text/x-python",
   "name": "python",
   "nbconvert_exporter": "python",
   "pygments_lexer": "ipython3",
   "version": "3.8.3"
  }
 },
 "nbformat": 4,
 "nbformat_minor": 4
}
